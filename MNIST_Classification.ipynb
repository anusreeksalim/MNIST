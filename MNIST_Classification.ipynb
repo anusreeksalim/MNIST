{
 "cells": [
  {
   "cell_type": "code",
   "execution_count": 36,
   "metadata": {},
   "outputs": [],
   "source": [
    "#MNIST Classification\n",
    "import pandas as pd\n",
    "import numpy as np\n",
    "import matplotlib.pyplot as plt\n",
    "import seaborn as sns\n",
    "from keras.layers import Dense, Activation, Convolution2D, MaxPooling2D, Flatten, Dropout\n",
    "from keras.models import Sequential\n",
    "from keras.utils import np_utils"
   ]
  },
  {
   "cell_type": "code",
   "execution_count": 37,
   "metadata": {},
   "outputs": [],
   "source": [
    "np.random.seed(42)"
   ]
  },
  {
   "cell_type": "code",
   "execution_count": 38,
   "metadata": {},
   "outputs": [
    {
     "name": "stdout",
     "output_type": "stream",
     "text": [
      "(42000, 785)\n",
      "(28000, 784)\n"
     ]
    }
   ],
   "source": [
    "train = pd.read_csv(\"train.csv\")\n",
    "test = pd.read_csv(\"test.csv\")\n",
    "print(train.shape)\n",
    "print(test.shape)"
   ]
  },
  {
   "cell_type": "code",
   "execution_count": 39,
   "metadata": {},
   "outputs": [
    {
     "data": {
      "image/png": "[encoded data removed]",
      "text/plain": [
       "<Figure size 432x288 with 1 Axes>"
      ]
     },
     "metadata": {},
     "output_type": "display_data"
    }
   ],
   "source": [
    "plt.figure()\n",
    "ax = sns.countplot(train['label'])\n",
    "plt.title(\"Distribution of digits in the train dataset\")\n",
    "plt.show()"
   ]
  },
  {
   "cell_type": "code",
   "execution_count": 40,
   "metadata": {},
   "outputs": [
    {
     "name": "stdout",
     "output_type": "stream",
     "text": [
      "(42000, 784)\n",
      "(42000,)\n",
      "(28000, 784)\n"
     ]
    }
   ],
   "source": [
    "features_train = train.columns[1:]\n",
    "features_test = test.columns\n",
    "X_train = train[features_train].astype('float32')\n",
    "X_test = test[features_test].astype('float32')\n",
    "Y_train = train['label']\n",
    "print(X_train.shape)\n",
    "print(Y_train.shape)\n",
    "print(X_test.shape)\n"
   ]
  },
  {
   "cell_type": "code",
   "execution_count": 41,
   "metadata": {},
   "outputs": [],
   "source": [
    "X_train /= 255\n",
    "X_test /= 255"
   ]
  },
  {
   "cell_type": "code",
   "execution_count": 42,
   "metadata": {},
   "outputs": [
    {
     "data": {
      "text/plain": [
       "(28, 28, 1)"
      ]
     },
     "execution_count": 42,
     "metadata": {},
     "output_type": "execute_result"
    }
   ],
   "source": [
    "X_train = np.array(X_train).reshape(X_train.shape[0],28,28,1)\n",
    "X_test = np.array(X_test).reshape(X_test.shape[0],28,28,1)\n",
    "X_train[0].shape"
   ]
  },
  {
   "cell_type": "code",
   "execution_count": 43,
   "metadata": {},
   "outputs": [
    {
     "data": {
      "text/plain": [
       "(42000, 10)"
      ]
     },
     "execution_count": 43,
     "metadata": {},
     "output_type": "execute_result"
    }
   ],
   "source": [
    "Y_train = np_utils.to_categorical(Y_train, 10)\n",
    "Y_train.shape"
   ]
  },
  {
   "cell_type": "code",
   "execution_count": 46,
   "metadata": {},
   "outputs": [
    {
     "name": "stdout",
     "output_type": "stream",
     "text": [
      "Train on 33600 samples, validate on 8400 samples\n",
      "Epoch 1/10\n",
      "33600/33600 [==============================] - 592s 18ms/step - loss: 0.2457 - acc: 0.9228 - val_loss: 0.0756 - val_acc: 0.9762\n",
      "\n",
      "Epoch 00001: val_acc improved from -inf to 0.97619, saving model to weights.best.hdf5\n",
      "Epoch 2/10\n",
      "33600/33600 [==============================] - 588s 18ms/step - loss: 0.0702 - acc: 0.9789 - val_loss: 0.0550 - val_acc: 0.9814\n",
      "\n",
      "Epoch 00002: val_acc improved from 0.97619 to 0.98143, saving model to weights.best.hdf5\n",
      "Epoch 3/10\n",
      "33600/33600 [==============================] - 589s 18ms/step - loss: 0.0490 - acc: 0.9848 - val_loss: 0.0539 - val_acc: 0.9823\n",
      "\n",
      "Epoch 00003: val_acc improved from 0.98143 to 0.98226, saving model to weights.best.hdf5\n",
      "Epoch 4/10\n",
      "33600/33600 [==============================] - 1211s 36ms/step - loss: 0.0342 - acc: 0.9887 - val_loss: 0.0582 - val_acc: 0.9825\n",
      "\n",
      "Epoch 00004: val_acc improved from 0.98226 to 0.98250, saving model to weights.best.hdf5\n",
      "Epoch 5/10\n",
      "33600/33600 [==============================] - 589s 18ms/step - loss: 0.0265 - acc: 0.9916 - val_loss: 0.0493 - val_acc: 0.9862\n",
      "\n",
      "Epoch 00005: val_acc improved from 0.98250 to 0.98619, saving model to weights.best.hdf5\n",
      "Epoch 6/10\n",
      "33600/33600 [==============================] - 594s 18ms/step - loss: 0.0204 - acc: 0.9932 - val_loss: 0.0549 - val_acc: 0.9850\n",
      "\n",
      "Epoch 00006: val_acc did not improve from 0.98619\n",
      "Epoch 7/10\n",
      "33600/33600 [==============================] - 591s 18ms/step - loss: 0.0170 - acc: 0.9945 - val_loss: 0.0498 - val_acc: 0.9869\n",
      "\n",
      "Epoch 00007: val_acc improved from 0.98619 to 0.98690, saving model to weights.best.hdf5\n",
      "Epoch 8/10\n",
      "33600/33600 [==============================] - 588s 18ms/step - loss: 0.0116 - acc: 0.9963 - val_loss: 0.0563 - val_acc: 0.9871\n",
      "\n",
      "Epoch 00008: val_acc improved from 0.98690 to 0.98714, saving model to weights.best.hdf5\n",
      "Epoch 9/10\n",
      "33600/33600 [==============================] - 593s 18ms/step - loss: 0.0103 - acc: 0.9967 - val_loss: 0.0499 - val_acc: 0.9883\n",
      "\n",
      "Epoch 00009: val_acc improved from 0.98714 to 0.98833, saving model to weights.best.hdf5\n",
      "Epoch 10/10\n",
      "33600/33600 [==============================] - 593s 18ms/step - loss: 0.0099 - acc: 0.9967 - val_loss: 0.0610 - val_acc: 0.9873\n",
      "\n",
      "Epoch 00010: val_acc did not improve from 0.98833\n"
     ]
    }
   ],
   "source": [
    "model = Sequential()\n",
    "model.add(Convolution2D(32, (3,3), input_shape =(28,28,1)))\n",
    "model.add(Activation('relu'))\n",
    "model.add(Convolution2D(32, (3,3)))\n",
    "model.add(Activation('relu'))\n",
    "model.add(MaxPooling2D(pool_size = (2,2)))\n",
    "model.add(Dropout(0.25))\n",
    "model.add(Flatten())\n",
    "model.add(Dense(200))\n",
    "model.add(Activation('relu'))\n",
    "model.add(Dense(10))\n",
    "model.add(Activation('softmax'))\n",
    "\n",
    "model.compile(loss = 'categorical_crossentropy', optimizer = 'adadelta', metrics = ['accuracy'])\n",
    "\n",
    "from keras.callbacks import ModelCheckpoint\n",
    "filepath = \"weights.best.hdf5\"\n",
    "checkpoint = ModelCheckpoint(filepath, monitor=\"val_acc\", verbose=1, save_best_only= True, mode=\"max\")\n",
    "callbacks_list = [checkpoint]\n",
    "\n",
    "history = model.fit(X_train, Y_train, batch_size = 100, epochs=10, validation_split = 0.2, verbose =1,callbacks = callbacks_list)"
   ]
  },
  {
   "cell_type": "code",
   "execution_count": 49,
   "metadata": {},
   "outputs": [
    {
     "name": "stdout",
     "output_type": "stream",
     "text": [
      "[array([[[[-2.31403355e-02,  1.99063197e-01,  1.18383080e-01,\n",
      "          -3.30863625e-01,  7.49219954e-02,  2.09024534e-01,\n",
      "           2.91795313e-01, -3.25480729e-01, -1.07354239e-01,\n",
      "           2.25464329e-01,  1.90364316e-01,  3.94248068e-01,\n",
      "           3.38234067e-01,  3.09410214e-01,  2.40118995e-01,\n",
      "           7.85670057e-02, -3.10526609e-01, -1.80773243e-01,\n",
      "          -1.40982032e-01,  1.96353808e-01,  3.73985916e-02,\n",
      "          -5.84581047e-02,  1.39097556e-01, -5.36698848e-02,\n",
      "           1.98476404e-01,  4.52533871e-01,  2.81227529e-01,\n",
      "           4.12184924e-01,  1.94461018e-01, -4.26743925e-03,\n",
      "          -6.63590804e-02,  2.67046481e-01]],\n",
      "\n",
      "        [[-8.60252157e-02, -1.02442969e-02,  2.27810308e-01,\n",
      "          -1.16760477e-01, -2.52781641e-02,  1.01633213e-01,\n",
      "           2.67359078e-01, -1.49718774e-02,  2.29093626e-01,\n",
      "           1.83329791e-01,  1.96873993e-01,  2.57254332e-01,\n",
      "           3.53783876e-01,  1.99366719e-01,  7.48391673e-02,\n",
      "           3.47837448e-01, -1.25087798e-01, -5.74556105e-02,\n",
      "           1.14002772e-01, -1.72220930e-01,  2.67686188e-01,\n",
      "          -5.68583310e-02,  2.35035438e-02, -7.32870325e-02,\n",
      "           2.41268396e-01,  4.17187512e-01,  3.92103821e-01,\n",
      "           2.09232569e-01,  4.58543934e-02, -9.10495967e-02,\n",
      "           6.58342838e-02,  2.23577246e-01]],\n",
      "\n",
      "        [[ 2.12306172e-01,  2.34297693e-01,  1.50804564e-01,\n",
      "          -2.21326873e-02, -3.18235487e-01,  2.27746010e-01,\n",
      "          -4.99240160e-02,  2.89132237e-01,  4.26228821e-01,\n",
      "           1.81321755e-01, -1.91108100e-02,  1.33320764e-01,\n",
      "           3.59833799e-02,  3.30638349e-01, -7.47354552e-02,\n",
      "           4.62937087e-01,  1.48574248e-01,  4.02219415e-01,\n",
      "           2.87132356e-02, -2.29016468e-01,  8.88962448e-02,\n",
      "          -1.47487104e-01,  7.84880575e-03,  2.66247038e-02,\n",
      "           5.77023588e-02, -3.46425269e-03,  3.63419294e-01,\n",
      "           1.73337922e-01, -2.41991575e-03, -8.09998661e-02,\n",
      "           1.02738328e-01,  2.69221634e-01]]],\n",
      "\n",
      "\n",
      "       [[[ 3.39397371e-01,  3.03812087e-01,  5.12477517e-01,\n",
      "          -6.80455565e-03,  1.85386822e-01,  6.72000647e-01,\n",
      "           1.33162230e-01, -8.86735246e-02,  6.83045983e-02,\n",
      "           3.12970340e-01,  2.86450535e-01,  2.64084607e-01,\n",
      "           3.00453067e-01, -6.71388730e-02,  3.21081340e-01,\n",
      "          -2.85465084e-02, -1.68715551e-01,  1.00211442e-01,\n",
      "           5.14474437e-02,  5.34424819e-02,  1.18665121e-01,\n",
      "           1.40826389e-01,  3.77518803e-01, -1.38555452e-01,\n",
      "           5.17114878e-01,  3.67163360e-01,  2.61372507e-01,\n",
      "           1.72597855e-01,  3.32077265e-01, -1.69571638e-02,\n",
      "           1.81343667e-02, -3.72841135e-02]],\n",
      "\n",
      "        [[ 3.86693567e-01,  2.67143220e-01,  5.75011611e-01,\n",
      "           6.70956299e-02,  1.07591577e-01,  5.52245557e-01,\n",
      "          -2.00530756e-02,  2.14466587e-01,  5.24814129e-01,\n",
      "           1.66200519e-01,  1.90833911e-01, -1.42473709e-02,\n",
      "          -3.61485817e-02,  3.32855545e-02,  2.51964889e-02,\n",
      "           3.29208881e-01,  4.40211557e-02,  1.57360777e-01,\n",
      "           3.73863988e-02,  9.52142254e-02,  1.80008158e-01,\n",
      "           3.16723675e-01,  2.82142758e-01, -2.49588817e-01,\n",
      "           4.27339911e-01,  4.40797508e-01,  2.71792203e-01,\n",
      "           2.03209892e-01,  1.55019865e-03, -9.24267098e-02,\n",
      "           3.47952276e-01, -8.00806731e-02]],\n",
      "\n",
      "        [[ 2.47344315e-01,  4.25516337e-01,  5.02652407e-01,\n",
      "           2.77682114e-02,  1.04640865e-04,  2.87951052e-01,\n",
      "          -2.51254469e-01,  3.27775896e-01,  4.68540370e-01,\n",
      "           2.75876313e-01, -1.57908946e-01,  1.19956672e-01,\n",
      "          -2.45114163e-01,  2.76579618e-01, -2.59156227e-01,\n",
      "           9.09300223e-02,  3.97105008e-01,  5.53872883e-01,\n",
      "          -1.28074721e-01, -1.56755835e-01,  3.08892101e-01,\n",
      "           1.78218022e-01,  1.92004830e-01, -5.52742891e-02,\n",
      "          -1.16599835e-01,  2.13884950e-01,  8.99494346e-03,\n",
      "           1.70906439e-01, -1.87436804e-01, -6.36331812e-02,\n",
      "           6.22933395e-02,  1.56867534e-01]]],\n",
      "\n",
      "\n",
      "       [[[ 3.70434374e-01,  1.09764524e-01,  2.83051342e-01,\n",
      "           1.39291644e-01,  9.89135802e-02,  5.73919594e-01,\n",
      "           1.88068300e-01,  2.62455314e-01,  6.13775253e-02,\n",
      "           2.52042383e-01,  8.36993828e-02,  2.38667056e-02,\n",
      "           8.97898898e-02, -3.46526712e-01,  3.51915777e-01,\n",
      "          -1.86103716e-01,  1.45305812e-01,  2.75982708e-01,\n",
      "          -2.51769200e-02,  3.32998782e-01,  1.49193242e-01,\n",
      "           3.38868886e-01,  4.30931181e-01,  2.00870723e-01,\n",
      "           3.98279369e-01,  1.79495022e-01,  6.81597441e-02,\n",
      "          -8.62896144e-02,  2.20256850e-01, -1.26428530e-01,\n",
      "           4.26141232e-01, -8.21838677e-02]],\n",
      "\n",
      "        [[ 2.45944038e-01,  1.40618056e-01,  2.98704475e-01,\n",
      "           1.36833787e-01,  2.35775381e-01,  2.53877550e-01,\n",
      "          -2.72901487e-02,  3.36180925e-01,  2.44856834e-01,\n",
      "           1.93120986e-01,  2.65247047e-01, -1.95083499e-01,\n",
      "           1.06937043e-01, -1.99371174e-01, -3.84870991e-02,\n",
      "           3.12817702e-03,  1.58174798e-01,  4.79309112e-01,\n",
      "          -1.34837076e-01,  1.32704139e-01,  9.19091478e-02,\n",
      "           5.08812189e-01,  4.08968627e-01, -1.61299221e-02,\n",
      "           2.65557438e-01,  1.21604294e-01,  2.04126209e-01,\n",
      "           2.63629168e-01, -1.08949520e-01, -1.08944826e-01,\n",
      "           4.09421384e-01, -3.22973579e-01]],\n",
      "\n",
      "        [[ 3.24105382e-01,  3.38978410e-01,  2.88703591e-01,\n",
      "           3.74508649e-01,  2.99954295e-01,  4.94172983e-02,\n",
      "          -4.05812979e-01,  2.04270408e-01, -3.48339379e-02,\n",
      "           8.51166099e-02,  8.21600948e-03, -4.92143296e-02,\n",
      "          -3.65025997e-02,  1.47346437e-01, -2.36980245e-01,\n",
      "          -3.58102173e-02,  2.70471305e-01,  1.61296546e-01,\n",
      "           3.67924720e-02,  1.00997947e-01,  2.20654607e-01,\n",
      "           4.08982038e-01,  2.67680138e-01,  2.86545962e-01,\n",
      "          -2.93870717e-02, -3.71537469e-02, -1.12980813e-01,\n",
      "           4.16800588e-01, -8.31115991e-02, -5.98785952e-02,\n",
      "          -3.88995819e-02, -2.10553482e-01]]]], dtype=float32), array([ 0.04691372,  0.09895664,  0.12496532,  0.17911188,  0.25865832,\n",
      "        0.15091844,  0.15429719,  0.07346103,  0.08027599,  0.03339335,\n",
      "        0.19459634,  0.14956532,  0.07652573,  0.16443726,  0.02692347,\n",
      "        0.19646549,  0.06185539,  0.25450218, -0.02229057,  0.06670751,\n",
      "        0.00522397,  0.11341441,  0.06767798,  0.23298691,  0.05837645,\n",
      "        0.12792045,  0.06976558,  0.1486765 ,  0.10308819,  0.        ,\n",
      "        0.08340196,  0.10066686], dtype=float32)]\n",
      "[]\n",
      "[array([[[[ 0.0790232 , -0.00635465,  0.10086985, ...,  0.01180982,\n",
      "           0.0365338 ,  0.05075284],\n",
      "         [-0.03021606, -0.11912985,  0.11212042, ...,  0.05504202,\n",
      "           0.04375564,  0.05112917],\n",
      "         [-0.06950792,  0.05214353,  0.01320717, ...,  0.0255691 ,\n",
      "           0.04571051, -0.02795743],\n",
      "         ...,\n",
      "         [-0.04123437, -0.0206558 ,  0.01241633, ..., -0.05832756,\n",
      "           0.04842651, -0.08787341],\n",
      "         [ 0.0610364 , -0.00413485, -0.0619011 , ...,  0.04813122,\n",
      "           0.00172645,  0.09778377],\n",
      "         [-0.03489782,  0.0687592 ,  0.0892581 , ...,  0.01784782,\n",
      "          -0.13788787, -0.1660981 ]],\n",
      "\n",
      "        [[-0.02457568,  0.01508385, -0.04478034, ...,  0.01692234,\n",
      "           0.05634258,  0.00861225],\n",
      "         [ 0.04184194, -0.03219816,  0.00420503, ...,  0.04101413,\n",
      "          -0.0359505 ,  0.07315002],\n",
      "         [ 0.07189477,  0.0091664 ,  0.03923004, ...,  0.06718402,\n",
      "           0.07832912,  0.0042306 ],\n",
      "         ...,\n",
      "         [ 0.05553448, -0.0643463 , -0.07896988, ...,  0.04764569,\n",
      "           0.05300419,  0.0325034 ],\n",
      "         [ 0.06151541, -0.04156667, -0.01165591, ..., -0.04371524,\n",
      "          -0.13335024,  0.06293927],\n",
      "         [ 0.00427709,  0.09352687, -0.12757133, ..., -0.09298418,\n",
      "          -0.03682758, -0.11458052]],\n",
      "\n",
      "        [[ 0.02607236, -0.03153342,  0.05400662, ...,  0.06569961,\n",
      "           0.04488409, -0.08106223],\n",
      "         [ 0.06954561,  0.11261829, -0.03048876, ..., -0.04866384,\n",
      "          -0.05665171, -0.08670386],\n",
      "         [-0.07700358,  0.10210373, -0.01122074, ...,  0.00996801,\n",
      "          -0.04136843,  0.05786652],\n",
      "         ...,\n",
      "         [ 0.03189099, -0.01147205,  0.03953765, ...,  0.02354054,\n",
      "          -0.05129506, -0.08530798],\n",
      "         [-0.10068101,  0.07486278,  0.04247551, ..., -0.06827993,\n",
      "           0.07803017, -0.1163519 ],\n",
      "         [ 0.09557408, -0.09540491, -0.26161668, ..., -0.08230687,\n",
      "          -0.14382802, -0.08534019]]],\n",
      "\n",
      "\n",
      "       [[[ 0.04142486, -0.15285836, -0.10370582, ...,  0.03440992,\n",
      "          -0.14392988, -0.0733668 ],\n",
      "         [ 0.03165642, -0.03031421, -0.08715009, ..., -0.00206191,\n",
      "           0.04504027, -0.00687605],\n",
      "         [ 0.0456515 , -0.04920384, -0.09531065, ...,  0.01019216,\n",
      "          -0.12043168, -0.0605859 ],\n",
      "         ...,\n",
      "         [ 0.05406898,  0.08071576, -0.07875212, ...,  0.07742931,\n",
      "           0.03332767, -0.05650865],\n",
      "         [ 0.14419708, -0.03564413, -0.02718637, ..., -0.01745008,\n",
      "          -0.03384744,  0.10879212],\n",
      "         [-0.1727366 ,  0.01437328,  0.09419432, ..., -0.12375729,\n",
      "           0.04502973, -0.22182992]],\n",
      "\n",
      "        [[ 0.02270313,  0.06724092,  0.01926851, ...,  0.00262709,\n",
      "           0.11918239, -0.04944666],\n",
      "         [ 0.08258523,  0.05323884,  0.05733116, ..., -0.04676499,\n",
      "           0.11874466,  0.00829296],\n",
      "         [ 0.06979307,  0.06509499,  0.11730208, ..., -0.03483608,\n",
      "           0.08957681, -0.04060554],\n",
      "         ...,\n",
      "         [ 0.03895599, -0.08731223, -0.04983108, ..., -0.02703069,\n",
      "           0.07473861,  0.0642077 ],\n",
      "         [ 0.10705398, -0.06769333,  0.0388572 , ...,  0.02051851,\n",
      "          -0.10545266,  0.04307828],\n",
      "         [ 0.06344415, -0.07731904,  0.07478549, ..., -0.17172028,\n",
      "           0.05356929, -0.12450139]],\n",
      "\n",
      "        [[ 0.05871775,  0.03701587,  0.09165508, ...,  0.09659268,\n",
      "          -0.08887811,  0.03314328],\n",
      "         [-0.01293313,  0.09398919,  0.05400092, ..., -0.06567603,\n",
      "           0.09029137, -0.09398666],\n",
      "         [ 0.01730497,  0.00626059, -0.06936569, ...,  0.11085998,\n",
      "           0.02741229, -0.04597306],\n",
      "         ...,\n",
      "         [-0.06083946,  0.06879288, -0.0289855 , ..., -0.0284186 ,\n",
      "          -0.03848264,  0.0448778 ],\n",
      "         [-0.01712582,  0.09098248,  0.00072359, ..., -0.07211665,\n",
      "           0.06739899, -0.10122845],\n",
      "         [ 0.02660483, -0.0317553 ,  0.04050858, ..., -0.08569048,\n",
      "          -0.08742052, -0.09017588]]],\n",
      "\n",
      "\n",
      "       [[[-0.08198853, -0.03194917, -0.04299097, ..., -0.06649645,\n",
      "          -0.06263973,  0.13268203],\n",
      "         [ 0.06656799, -0.06501516,  0.03171105, ..., -0.10132445,\n",
      "          -0.0347924 , -0.03990217],\n",
      "         [ 0.04816662, -0.10007153, -0.03337595, ...,  0.07251544,\n",
      "          -0.1222886 ,  0.01621141],\n",
      "         ...,\n",
      "         [ 0.00194225,  0.00098801,  0.08573598, ..., -0.0573323 ,\n",
      "          -0.07780326,  0.09830415],\n",
      "         [ 0.10477871, -0.08904236, -0.01344308, ..., -0.09475955,\n",
      "          -0.11686894,  0.15632938],\n",
      "         [-0.04486214, -0.05845431,  0.06327575, ..., -0.08969681,\n",
      "          -0.1171148 , -0.18397354]],\n",
      "\n",
      "        [[-0.1355053 , -0.06889924,  0.02708709, ...,  0.06389139,\n",
      "           0.03036998, -0.07492869],\n",
      "         [ 0.06457947,  0.09121924,  0.05300003, ..., -0.08986352,\n",
      "           0.10463421, -0.01199759],\n",
      "         [-0.10234415, -0.08838242,  0.031533  , ...,  0.00434289,\n",
      "           0.04945817, -0.02612021],\n",
      "         ...,\n",
      "         [ 0.04037134, -0.01113683, -0.04520545, ..., -0.04659088,\n",
      "          -0.00394624,  0.07930918],\n",
      "         [-0.13651638, -0.07268646, -0.05269974, ..., -0.0682066 ,\n",
      "          -0.07611801,  0.07409298],\n",
      "         [ 0.01506904,  0.09276751,  0.0915435 , ..., -0.11609033,\n",
      "           0.0082844 , -0.08198782]],\n",
      "\n",
      "        [[-0.06858908,  0.09015822, -0.09935501, ...,  0.00498195,\n",
      "           0.01357509,  0.03101847],\n",
      "         [-0.03741177,  0.13306375,  0.02072764, ...,  0.00660553,\n",
      "          -0.10790496,  0.02288066],\n",
      "         [-0.05041599, -0.07575427, -0.04307561, ...,  0.10153363,\n",
      "           0.00724968, -0.00626809],\n",
      "         ...,\n",
      "         [-0.01533037, -0.07094068,  0.04607587, ..., -0.10175645,\n",
      "           0.09475745, -0.00030159],\n",
      "         [ 0.0301855 , -0.07013283, -0.06371788, ...,  0.04380722,\n",
      "           0.13605689, -0.06214996],\n",
      "         [ 0.01629629, -0.12699622,  0.08102676, ..., -0.17471288,\n",
      "          -0.14064574, -0.10366415]]]], dtype=float32), array([-0.07594182, -0.05272691, -0.03379265,  0.00672702, -0.08462431,\n",
      "       -0.00709877, -0.07293458, -0.00396926, -0.02914868, -0.03852905,\n",
      "       -0.0924536 ,  0.01165604,  0.03403835,  0.02490075,  0.04247607,\n",
      "       -0.05798878, -0.06359736, -0.02950181, -0.0579201 , -0.08278544,\n",
      "       -0.02613648, -0.01032776,  0.03367458, -0.00114896, -0.00550457,\n",
      "       -0.05898741, -0.05413737, -0.0349457 ,  0.0264471 , -0.12849528,\n",
      "       -0.0031245 , -0.06358371], dtype=float32)]\n",
      "[]\n",
      "[]\n",
      "[]\n",
      "[]\n",
      "[array([[-0.02744925,  0.0315879 , -0.00310867, ...,  0.0103036 ,\n",
      "        -0.03558302, -0.02124179],\n",
      "       [-0.01720378, -0.03197134, -0.01205911, ...,  0.03055339,\n",
      "         0.00884555,  0.02954093],\n",
      "       [ 0.00687785, -0.02480397, -0.00082085, ...,  0.01454143,\n",
      "         0.02057175,  0.00132355],\n",
      "       ...,\n",
      "       [-0.02788855,  0.02552365,  0.01715768, ..., -0.00514806,\n",
      "        -0.00948515,  0.01325775],\n",
      "       [-0.00076343, -0.01057105, -0.00681847, ..., -0.02906477,\n",
      "        -0.02371458, -0.02412097],\n",
      "       [-0.00046386, -0.01379849, -0.00296613, ...,  0.03140214,\n",
      "        -0.00107751, -0.01785515]], dtype=float32), array([-0.01750644,  0.00977445,  0.01195742, -0.00743922, -0.01235719,\n",
      "        0.0190141 , -0.01962464, -0.00217808,  0.01019256, -0.02236253,\n",
      "       -0.01215595,  0.00269733,  0.0107431 ,  0.00438102,  0.01339857,\n",
      "       -0.01743054,  0.01246095, -0.00029725, -0.01763969, -0.02284976,\n",
      "        0.01096541,  0.00472786, -0.02098732,  0.00390051, -0.01150496,\n",
      "       -0.02303984, -0.01266492, -0.03264489,  0.00242942, -0.01151266,\n",
      "       -0.02994009,  0.00020897, -0.01481646, -0.03034567, -0.02661889,\n",
      "        0.0031136 , -0.01416064, -0.00329124,  0.0001058 , -0.01706038,\n",
      "        0.02823392, -0.03542557,  0.00018561,  0.00701765, -0.02107929,\n",
      "       -0.0394139 , -0.00988189,  0.01797439,  0.00051574, -0.00639633,\n",
      "       -0.01172419, -0.00617835, -0.00994414, -0.02305602, -0.02983478,\n",
      "        0.0097179 ,  0.00421112, -0.00491808, -0.0057979 , -0.03623708,\n",
      "        0.00424921,  0.0058435 ,  0.00544174,  0.00963041, -0.00972153,\n",
      "        0.01367099,  0.00320131,  0.01237972, -0.01218926, -0.01327586,\n",
      "        0.01425561, -0.03996629,  0.01378019,  0.00608269, -0.01440809,\n",
      "       -0.0096893 ,  0.00566891, -0.00463855, -0.00654886, -0.00588046,\n",
      "       -0.00265618,  0.00456473, -0.01363522, -0.01398392, -0.00355051,\n",
      "       -0.01107816, -0.00886823, -0.0104938 , -0.00915197, -0.01777642,\n",
      "       -0.01135497, -0.017381  , -0.00377954, -0.01390771, -0.01569851,\n",
      "       -0.01842397, -0.00759585, -0.01550902,  0.00984821, -0.02878705,\n",
      "       -0.01243789, -0.02647327, -0.02829392, -0.0094193 ,  0.01364165,\n",
      "       -0.00538949, -0.01793461, -0.00573409,  0.00109527, -0.00465525,\n",
      "       -0.0320535 , -0.01617778, -0.0123018 , -0.0115715 , -0.00893869,\n",
      "       -0.04251966, -0.03018322, -0.00404121,  0.00065387, -0.02070508,\n",
      "       -0.03405166, -0.02871412,  0.02022421, -0.01126799, -0.0098432 ,\n",
      "       -0.00296776, -0.01804974, -0.04377035, -0.00921851,  0.00119165,\n",
      "       -0.00638989, -0.01222033,  0.0009114 ,  0.0015908 , -0.00291895,\n",
      "        0.00551215, -0.02227358, -0.01927625, -0.00311527, -0.02433965,\n",
      "       -0.01995759, -0.01107771,  0.0062527 ,  0.00095327,  0.00308497,\n",
      "       -0.01084855,  0.00053197,  0.00240947, -0.00054615,  0.00223653,\n",
      "       -0.02274394,  0.00670066,  0.0024425 , -0.01645219, -0.01369936,\n",
      "        0.02913506, -0.00415837, -0.01029675, -0.00611636, -0.01113719,\n",
      "       -0.01216392, -0.01405698,  0.00080865,  0.00286138,  0.01219208,\n",
      "       -0.01819013, -0.01123899, -0.01920305, -0.00014998, -0.01169824,\n",
      "       -0.0217083 , -0.03231922, -0.0065203 , -0.007376  , -0.00661469,\n",
      "       -0.01618616, -0.02605386, -0.0085679 , -0.00910732,  0.00704737,\n",
      "       -0.01718809, -0.01882759,  0.00727426,  0.00030871, -0.02008906,\n",
      "       -0.01558084, -0.01027797, -0.01698316, -0.02196632, -0.00526157,\n",
      "        0.00306509,  0.01037045, -0.01822382, -0.01991463, -0.00329663,\n",
      "       -0.00042109, -0.01006507,  0.00553786, -0.0079005 ,  0.01294779],\n",
      "      dtype=float32)]\n",
      "[]\n",
      "[array([[ 0.07142235, -0.20382987, -0.03640679, ...,  0.17136121,\n",
      "         0.10889088, -0.06951631],\n",
      "       [ 0.02349216, -0.00451539, -0.22207035, ...,  0.02316653,\n",
      "        -0.1881182 , -0.12563361],\n",
      "       [ 0.18689716,  0.19862342, -0.20307015, ..., -0.1331081 ,\n",
      "        -0.11080009,  0.14485578],\n",
      "       ...,\n",
      "       [-0.13324405,  0.03756773,  0.0256388 , ..., -0.08717101,\n",
      "        -0.00602964, -0.09387419],\n",
      "       [-0.01115952, -0.20308916, -0.17005153, ..., -0.04490641,\n",
      "         0.04707782,  0.0753361 ],\n",
      "       [-0.1543196 ,  0.13549523,  0.04569139, ...,  0.05304485,\n",
      "        -0.01216953, -0.22412811]], dtype=float32), array([-0.0226608 ,  0.02649853, -0.01118052,  0.00028437, -0.00882545,\n",
      "        0.0170295 , -0.02228996,  0.00033875, -0.00558562, -0.00611757],\n",
      "      dtype=float32)]\n",
      "[]\n"
     ]
    }
   ],
   "source": [
    "for layer in model.layers:\n",
    "    print (layer.get_weights())"
   ]
  },
  {
   "cell_type": "code",
   "execution_count": 50,
   "metadata": {},
   "outputs": [
    {
     "data": {
      "text/plain": [
       "3158"
      ]
     },
     "execution_count": 50,
     "metadata": {},
     "output_type": "execute_result"
    }
   ],
   "source": [
    "#saving the model\n",
    "model_json = model.to_json()\n",
    "open('mnist_architecture.json', 'w').write(model_json)"
   ]
  },
  {
   "cell_type": "code",
   "execution_count": 58,
   "metadata": {},
   "outputs": [],
   "source": [
    "prediction = model.predict_classes(X_test)"
   ]
  },
  {
   "cell_type": "code",
   "execution_count": 59,
   "metadata": {},
   "outputs": [
    {
     "data": {
      "text/plain": [
       "(28, 28, 1)"
      ]
     },
     "execution_count": 59,
     "metadata": {},
     "output_type": "execute_result"
    }
   ],
   "source": [
    "X_test[0].shape"
   ]
  },
  {
   "cell_type": "code",
   "execution_count": 60,
   "metadata": {},
   "outputs": [
    {
     "data": {
      "image/png": "[encoded data removed]",
      "text/plain": [
       "<Figure size 432x288 with 1 Axes>"
      ]
     },
     "metadata": {},
     "output_type": "display_data"
    }
   ],
   "source": [
    "# Plot the image\n",
    "plt.imshow(X_test[0].reshape(28,28), cmap='gray_r')\n",
    "plt.title('Digit Label: {}'.format(prediction[0]))\n",
    "plt.show()"
   ]
  },
  {
   "cell_type": "code",
   "execution_count": 71,
   "metadata": {},
   "outputs": [
    {
     "data": {
      "image/png": "[encoded data removed]",
      "text/plain": [
       "<Figure size 432x288 with 9 Axes>"
      ]
     },
     "metadata": {},
     "output_type": "display_data"
    }
   ],
   "source": [
    "fig = plt.figure()\n",
    "for i in [1,2,3,4,5,6,7,8,9]:\n",
    "    ax = fig.add_subplot(3,3,i)\n",
    "    ax.imshow(X_test[i].reshape(28,28), cmap='gray_r')\n",
    "    ax.set_title('Digit Label: {}'.format(prediction[i]))\n",
    "\n",
    "plt.show()"
   ]
  },
  {
   "cell_type": "code",
   "execution_count": null,
   "metadata": {},
   "outputs": [],
   "source": []
  }
 ],
 "metadata": {
  "kernelspec": {
   "display_name": "Python 3",
   "language": "python",
   "name": "python3"
  },
  "language_info": {
   "codemirror_mode": {
    "name": "ipython",
    "version": 3
   },
   "file_extension": ".py",
   "mimetype": "text/x-python",
   "name": "python",
   "nbconvert_exporter": "python",
   "pygments_lexer": "ipython3",
   "version": "3.6.5"
  }
 },
 "nbformat": 4,
 "nbformat_minor": 2
}
